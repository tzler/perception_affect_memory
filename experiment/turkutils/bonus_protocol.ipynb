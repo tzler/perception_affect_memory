{
 "cells": [
  {
   "cell_type": "code",
   "execution_count": 1,
   "metadata": {
    "scrolled": true
   },
   "outputs": [],
   "source": [
    "# ! ssh -fNL 27017:localhost:27017 bonnen@rxdhawkins.me"
   ]
  },
  {
   "cell_type": "code",
   "execution_count": 1,
   "metadata": {},
   "outputs": [],
   "source": [
    "import datetime, os, json, boto, pymongo, numpy, h5py\n",
    "import numpy as np\n",
    "from sklearn.metrics import confusion_matrix\n",
    "from boto.mturk.connection import MTurkConnection\n",
    "a = np.array"
   ]
  },
  {
   "cell_type": "code",
   "execution_count": 6,
   "metadata": {},
   "outputs": [],
   "source": [
    "live = 1\n",
    "mturk_platform = 'live'\n",
    "credential_location = '../credentials/'\n",
    "rootkey = 'auth.json'\n",
    "\n",
    "with open(credential_location + rootkey) as f: \n",
    "    key_info = json.load(f)\n",
    "    \n",
    "# bonus subject\n",
    "host = 'mechanicalturk.amazonaws.com'\n",
    "# extract account info and define platform\n",
    "\n",
    "if live: host = 'mechanicalturk.amazonaws.com'\n",
    "else: host = 'mechanicalturk.sandbox.amazonaws.com'\n",
    "\n",
    "# establish mturk connection\n",
    "mturk = MTurkConnection(aws_access_key_id=key_info['access_id'],\n",
    "                        aws_secret_access_key=key_info['secret_key'],\n",
    "                        host=host)"
   ]
  },
  {
   "cell_type": "code",
   "execution_count": 9,
   "metadata": {},
   "outputs": [],
   "source": [
    "# extract hit info from submission inventory\n",
    "submission_file = 'HIT_submission_records_%s.npy'%(mturk_platform)\n",
    "submission_records = np.load(submission_file).item()\n",
    "submissions = submission_records.keys()"
   ]
  },
  {
   "cell_type": "code",
   "execution_count": 15,
   "metadata": {},
   "outputs": [],
   "source": [
    "mongo_auth = \"/Users/biota/memory/sleep_affect_memory/experiment/.credentials/auth.json\"\n",
    "access_info = json.load(open(mongo_auth))\n",
    "\n",
    "# open tunnel -- requires established connection [ssh -fNL 27017:localhost:27017 bonnen@rxdhawkins.m]\n",
    "mongo_tunnel = 'mongodb://' + access_info['user'] + ':' + access_info['password'] + '@127.0.0.1'\n",
    "\n",
    "# conect, define collection and database\n",
    "connection = pymongo.MongoClient(mongo_tunnel)\n",
    "data_base = connection['sleep_affect_memory']\n",
    "collection = data_base['replication']"
   ]
  },
  {
   "cell_type": "code",
   "execution_count": 90,
   "metadata": {
    "scrolled": false
   },
   "outputs": [],
   "source": [
    "\n",
    "def get_hit_and_worker_ids(i_submission): \n",
    "\n",
    "    submission_info = submission_records[i_submission]\n",
    "    hit_id = submission_info['hit_id']\n",
    "    subject_ids = a(collection.find({'hit_id':hit_id}).distinct('worker_id'))\n",
    "    \n",
    "    return hit_id, subject_ids\n",
    "\n",
    "def generate_record_for_inventory(subject_ids, submission_records, i_submission): \n",
    "    \n",
    "    if len(subject_ids): \n",
    "        \n",
    "        try: \n",
    "            submission_records[i_submission]['subject_info'] \n",
    "        except: \n",
    "            submission_records[i_submission]['subject_info'] = {} \n",
    "            #print('creating new submission inventory... ')\n",
    "\n",
    "        for i_subject in subject_ids: \n",
    "\n",
    "            try: \n",
    "                submission_records[i_submission]['subject_info'][i_subject] \n",
    "            except: \n",
    "                submission_records[i_submission]['subject_info'][i_subject] = {} \n",
    "                #print('creating new subject inventory')\n",
    "    else: \n",
    "        \n",
    "        print('\\n no subject data \\n')\n",
    "        \n",
    "    return submission_records \n",
    "\n",
    "def bonus_protocol(hit_id, i_submission,manual=True, manual_rebonus=0): \n",
    "    \n",
    "    \n",
    "    w_data = {i['worker_id']: i for i in collection.find({'hit_id':hit_id, \"data_type\":\"feedback\"})}  \n",
    "    \n",
    "    for i_subject in list(w_data.keys()): \n",
    "\n",
    "        assignment_id = w_data[i_subject]['assignment_id']\n",
    "        bonus_amount =  float('%.2f'%float(w_data[i_subject]['trial_data']['total_bonus_earned']))\n",
    "        converted_bonus = boto.mturk.price.Price(bonus_amount) \n",
    "\n",
    "        try: \n",
    "            submission_records[i_submission]['subject_info'][i_subject]\n",
    "            if submission_records[i_submission]['subject_info'][i_subject]['assigned_bonus'] == 1 : \n",
    "                needs_bonus = 0 \n",
    "            else: \n",
    "                needs_bonus = 1 \n",
    "        except: \n",
    "            needs_bonus = 1  \n",
    "\n",
    "        converted_bonus = performance_bonus = boto.mturk.price.Price(bonus_amount)\n",
    "        if manual_rebonus == 1: \n",
    "            needs_bonus = 1\n",
    "            \n",
    "        if needs_bonus: \n",
    "\n",
    "            if manual:\n",
    "                \n",
    "                try: \n",
    "                    w_data[i_subject]['trial_data']['worker_feedback']\n",
    "                    print('bonus amount: %f'%bonus_amount)\n",
    "                except: \n",
    "                    print(\"no feedback data for subject\")\n",
    "                \n",
    "                MSG = input(\"Enter a custom message? Pressing enter reverts to default. \")\n",
    "                if len(MSG) == 0: MSG = \"Thanks for participating in our study!\"\n",
    "                BONUS = input(\"Amount to bonus worker? Pressing enter reverts to {} \".format(bonus_amount))\n",
    "                if len(BONUS) == 0: BONUS = bonus_amount\n",
    "                converted_bonus = boto.mturk.price.Price(BONUS) \n",
    "                \n",
    "            else: \n",
    "                \n",
    "                MSG = \"Thanks for participating in our study!\"\n",
    "                BONUS = bonus_amount\n",
    "                converted_bonus = boto.mturk.price.Price(BONUS) \n",
    "\n",
    "            try: \n",
    "                print(i_subject, assignment_id,  converted_bonus)\n",
    "                s = mturk.grant_bonus(i_subject, assignment_id,  converted_bonus, MSG);\n",
    "                print('success!\\n',)\n",
    "                submission_records[i_submission]['subject_info'][i_subject]['assigned_bonus'] = 1\n",
    "                submission_records[i_submission]['subject_info'][i_subject]['bonus_amount'] = converted_bonus\n",
    "                submission_records[i_submission]['subject_info'][i_subject]['return_message']  = {type(s): s}\n",
    "\n",
    "            except Exception as e:\n",
    "\n",
    "                ERROR = {type(e):e}\n",
    "                submission_records[i_submission]['subject_info'][i_subject]['assigned_bonus'] = 0\n",
    "                submission_records[i_submission]['subject_info'][i_subject]['bonus_amount'] = 0 \n",
    "                submission_records[i_submission]['subject_info'][i_subject]['return_message']  = {type(e):e}\n",
    "                print('ERROR:', type(e),)\n",
    "\n",
    "            np.save(submission_file, submission_records)\n",
    "\n",
    "        else: \n",
    "\n",
    "            print('already bonused %s'%i_subject)\n",
    "            \n",
    "    return submission_records\n"
   ]
  },
  {
   "cell_type": "code",
   "execution_count": 96,
   "metadata": {
    "scrolled": true
   },
   "outputs": [
    {
     "name": "stdout",
     "output_type": "stream",
     "text": [
      "\n",
      "submission_0\n",
      "\n",
      "already bonused A2CUBA783W1689\n",
      "already bonused AWAW665TQQP2F\n"
     ]
    }
   ],
   "source": [
    "\n",
    "for i_submission in submission_records.keys(): \n",
    "    \n",
    "    print('\\n%s\\n'%i_submission)\n",
    "\n",
    "    hit_id, subject_ids = get_hit_and_worker_ids(i_submission)\n",
    "    submission_records = generate_record_for_inventory(subject_ids, submission_records, i_submission) \n",
    "    submission_records = bonus_protocol(hit_id, i_submission, manual=True) \n"
   ]
  }
 ],
 "metadata": {
  "kernelspec": {
   "display_name": "Python 3",
   "language": "python",
   "name": "python3"
  },
  "language_info": {
   "codemirror_mode": {
    "name": "ipython",
    "version": 3
   },
   "file_extension": ".py",
   "mimetype": "text/x-python",
   "name": "python",
   "nbconvert_exporter": "python",
   "pygments_lexer": "ipython3",
   "version": "3.7.0"
  }
 },
 "nbformat": 4,
 "nbformat_minor": 2
}
