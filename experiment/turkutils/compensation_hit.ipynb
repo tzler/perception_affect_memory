{
 "cells": [
  {
   "cell_type": "code",
   "execution_count": 1,
   "metadata": {},
   "outputs": [],
   "source": [
    "\n",
    "# /usr/bin/python\n",
    "from boto.mturk.connection import MTurkConnection\n",
    "from boto.mturk.question import ExternalQuestion\n",
    "from dateutil.parser import *\n",
    "from boto.mturk.question import HTMLQuestion\n",
    "import numpy as np\n",
    "import datetime, hashlib, boto, os, pymongo, json \n",
    "import warnings; warnings.simplefilter('ignore')\n"
   ]
  },
  {
   "cell_type": "code",
   "execution_count": 2,
   "metadata": {},
   "outputs": [],
   "source": [
    "\n",
    "tyler_id = 'A33F2FVAMGJDGG'\n"
   ]
  },
  {
   "cell_type": "code",
   "execution_count": 3,
   "metadata": {},
   "outputs": [],
   "source": [
    "\n",
    "in_progress = {} \n"
   ]
  },
  {
   "cell_type": "code",
   "execution_count": 4,
   "metadata": {},
   "outputs": [],
   "source": [
    "\n",
    "key_info = np.load('../credentials/snail_rootkey.npy').item()\n"
   ]
  },
  {
   "cell_type": "code",
   "execution_count": 3,
   "metadata": {},
   "outputs": [],
   "source": [
    "context = 'live'\n",
    "\n",
    "if context == 'sandbox':\n",
    "    \n",
    "    host = 'mechanicalturk.sandbox.amazonaws.com'\n",
    "    hit_url = 'https://workersandbox.mturk.com/mturk/preview?groupId='\n",
    "    external_submit = 'https://workersandbox.mturk.com/mturk/externalSubmit'\n",
    "\n",
    "elif context == 'live':\n",
    "\n",
    "    host = 'mechanicalturk.amazonaws.com'\n",
    "    hit_url = 'https://www.mturk.com/mturk/preview?groupId='\n",
    "    external_submit = \"https://www.mturk.com/mturk/externalSubmit\"\n"
   ]
  },
  {
   "cell_type": "code",
   "execution_count": 6,
   "metadata": {},
   "outputs": [],
   "source": [
    "\n",
    "# generate password from the worker id and current time\n",
    "time_code = datetime.datetime.now()\n",
    "unique_key = str(time_code)\n",
    "password = hashlib.md5(unique_key.encode()).hexdigest()\n"
   ]
  },
  {
   "cell_type": "code",
   "execution_count": 7,
   "metadata": {},
   "outputs": [],
   "source": [
    "# HIT HTML: instructions, text box, password submit button, success (or error) message, and HIT submit button\n",
    "question_html_format = \"\"\"\n",
    "<html>\n",
    "\n",
    "  <head>\n",
    "\n",
    "    <style>\n",
    "    #main\n",
    "    {\n",
    "     margin: 100px auto;\n",
    "     width: 900px;\n",
    "     text-align:center;\n",
    "    }\n",
    "    </style>\n",
    "\n",
    "    <meta http-equiv='Content-Type' content='text/html; charset=UTF-8'/>\n",
    "    <script src='https://s3.amazonaws.com/mturk-public/externalHIT_v1.js' type='text/javascript'></script>\n",
    "\n",
    "    <script>\n",
    "\n",
    "     function turkGetParam( name, defaultValue )\n",
    "     {\n",
    "       var regexS = \"[\\?&]\"+name+\"=([^&#]*)\";\n",
    "       var regex = new RegExp( regexS );\n",
    "       var tmpURL = window.location.href;\n",
    "       var results = regex.exec( tmpURL );\n",
    "\n",
    "       if( results == null )\n",
    "         { return defaultValue }\n",
    "       else\n",
    "         { return results[1]}\n",
    "      }\n",
    "\n",
    "      var worker_id_from_webpage = turkGetParam( 'workerId', 'NONE' )\n",
    "\n",
    "      var user_input = '%s'\n",
    "\n",
    "      function myFunction() {\n",
    "\n",
    "        password_match = document.getElementById('text_box_input').value === user_input\n",
    "\n",
    "        if ( password_match )\n",
    "        {\n",
    "          document.getElementById(\"correct_message\").style.color = \"blue\";\n",
    "          document.getElementById(\"submit_password\").style.display = \"none\";\n",
    "          document.getElementById(\"correct_message\").style.display = \"block\"\n",
    "          document.getElementById(\"submitButton\").style.display = \"inline-block\"\n",
    "        }\n",
    "        else\n",
    "        {\n",
    "          document.getElementById(\"error_message\").style.color = \"red\";\n",
    "          document.getElementById(\"error_message\").style.display = \"block\";}\n",
    "        }\n",
    "\n",
    "    </script>\n",
    "\n",
    "  </head>\n",
    "\n",
    "  <body>\n",
    "\n",
    "    <!-- HTML to handle creating the HIT form -->\n",
    "\n",
    "    <div id='main'>\n",
    "\n",
    "      <p id=\"error_message\" style='display:none; font-size:20px'>\n",
    "      You must acccept this HIT for the identity validation step to be successful <br/>\n",
    "      If you continue getting this message and believe it is an error, send the experimenter an email<br/><br/>\n",
    "      Otherwise, please return this HIT! <br/>\n",
    "      The person who this was indended for wont get paid until you do :(\n",
    "      </p>\n",
    "      <p id=\"correct_message\" style='display:none; font-size:20px'>\n",
    "      Thanks so much!<br/>\n",
    "      We appreciate your time and apologize for the hassle :)<br/>\n",
    "      Press \"Submit\" to receive your compensation. It may take up to 24 hours to complete. \n",
    "      </p>\n",
    "\n",
    "      <form name='mturk_form' method='post' id='mturk_form' action='%s'>\n",
    "\n",
    "        <input type='hidden' value='' name='assignmentId' id='assignmentId'/>\n",
    "        <!-- set question for subject -->\n",
    "        <h2>Please enter your password</h2>\n",
    "        <p><textarea id='text_box_input' name='answer' rows=1 cols=%d></textarea></p>\n",
    "        <!-- HTML to handle submitting the HIT -->\n",
    "        <p><input type='submit' id='submitButton' value='Submit' style='display:none'/></p></form>\n",
    "        <p><input type='submit' id='submit_password' value='PASSWORD SUBMIT' onclick=\"myFunction()\"/></p>\n",
    "\n",
    "    </div>\n",
    "    <script language='Javascript'>turkSetAssignmentID();</script>\n",
    "  </body>\n",
    "\n",
    "</html>\n",
    "\"\"\"                     %(password, external_submit, len(password)+5)"
   ]
  },
  {
   "cell_type": "code",
   "execution_count": 8,
   "metadata": {},
   "outputs": [],
   "source": [
    "\n",
    "question_contents = HTMLQuestion(question_html_format, 600)\n"
   ]
  },
  {
   "cell_type": "code",
   "execution_count": 9,
   "metadata": {},
   "outputs": [],
   "source": [
    "\n",
    "mtc = MTurkConnection(aws_access_key_id= key_info['AWSAccessKeyId'], \n",
    "                      aws_secret_access_key=key_info['AWSSecretKey'], \n",
    "                      host=host)\n"
   ]
  },
  {
   "cell_type": "code",
   "execution_count": 10,
   "metadata": {},
   "outputs": [],
   "source": [
    "hit_compensation_amount = 0.01\n",
    "\n",
    "response = mtc.create_hit(question=question_contents,\n",
    "                          max_assignments=9,\n",
    "                          title=\"A compensation HIT for workers with the Stanford Neuro AI lab\",\n",
    "                          description=\"All other workers will be rejected\",\n",
    "                          keywords=\"personalized HIT\",\n",
    "                          duration=60*60*60,\n",
    "                          reward=hit_compensation_amount,\n",
    "                          approval_delay=None)\n"
   ]
  },
  {
   "cell_type": "code",
   "execution_count": 11,
   "metadata": {},
   "outputs": [
    {
     "name": "stdout",
     "output_type": "stream",
     "text": [
      "\n",
      "\n",
      "password: 0005f2aeb7d360d2413553d9f0d43b10 \n",
      "url: https://www.mturk.com/mturk/preview?groupId=3Y7FOS1S79CMDPT3KIK19HN0CDN5SG \n",
      "\n",
      "\n"
     ]
    }
   ],
   "source": [
    "if response.status: \n",
    "    \n",
    "    hit_type_id = response[0].HITTypeId\n",
    "    hit_id = response[0].HITId   \n",
    "    in_progress[hit_id] = {'bonus_amount':hit_compensation_amount}\n",
    "    \n",
    "    print('\\n\\npassword:', password, '\\nurl:',  hit_url + hit_type_id, '\\n\\n')"
   ]
  },
  {
   "cell_type": "code",
   "execution_count": 12,
   "metadata": {},
   "outputs": [],
   "source": [
    "# nov 6th\n",
    "# password: 0005f2aeb7d360d2413553d9f0d43b10 \n",
    "# url: https://www.mturk.com/mturk/preview?groupId=3Y7FOS1S79CMDPT3KIK19HN0CDN5SG "
   ]
  },
  {
   "cell_type": "code",
   "execution_count": 14,
   "metadata": {},
   "outputs": [
    {
     "data": {
      "text/plain": [
       "dict_keys(['3M4KL7H8KWNZCHL4JQA6K7MZDGA61B'])"
      ]
     },
     "execution_count": 14,
     "metadata": {},
     "output_type": "execute_result"
    }
   ],
   "source": [
    "in_progress.keys()"
   ]
  },
  {
   "cell_type": "code",
   "execution_count": 34,
   "metadata": {},
   "outputs": [],
   "source": [
    "# conect to the mongodb\n",
    "data = json.load(open('../../credentials/auth.json'))\n",
    "mongo_tunnel = 'mongodb://' + data['user'] + ':' + data['password'] + '@127.0.0.1'\n",
    "connection = pymongo.MongoClient(mongo_tunnel)\n",
    "data_base = connection['task_stream']\n",
    "collection = data_base['match_to_sample']"
   ]
  },
  {
   "cell_type": "code",
   "execution_count": 41,
   "metadata": {},
   "outputs": [],
   "source": [
    "worker_ids = ['A83OOIGU4606R', 'A2VR9O234UCT9T']"
   ]
  },
  {
   "cell_type": "code",
   "execution_count": 16,
   "metadata": {},
   "outputs": [],
   "source": [
    "def extract_worker_info(worker_id): \n",
    "    \n",
    "    w_data, bonus_amount = '', ''\n",
    "    collection_names = ['stimulus_response', 'match_to_sample']\n",
    "    for i_collection in collection_names: \n",
    "        collection = data_base[i_collection]\n",
    "\n",
    "        if collection.find({'worker_id':worker_id}).count(): \n",
    "            \n",
    "            try: \n",
    "                w_data = collection.find({'worker_id':worker_id, \"data_type\":\"worker_feedback\"})[0]\n",
    "                bonus_amount = w_data['total_bonus_earned']\n",
    "            except: \n",
    "                q = collection.find({'worker_id':worker_id,'data_type':'single_trial'})\n",
    "                bonus_amount = q[q.count()-1]['bonus_earned']\n",
    "\n",
    "    return w_data, float('%.02f'%bonus_amount)"
   ]
  },
  {
   "cell_type": "code",
   "execution_count": 17,
   "metadata": {},
   "outputs": [],
   "source": [
    "# _ = [print('\\n%s:'%i_worker, extract_worker_info(i_worker)) for i_worker in worker_ids]"
   ]
  },
  {
   "cell_type": "code",
   "execution_count": 18,
   "metadata": {},
   "outputs": [],
   "source": [
    "hit_id = list(in_progress)[0]"
   ]
  },
  {
   "cell_type": "code",
   "execution_count": 1,
   "metadata": {},
   "outputs": [],
   "source": [
    "waiting = 1\n",
    "\n",
    "while waiting: \n",
    "    \n",
    "    result = mtc.get_assignments(hit_id)\n",
    "\n",
    "    if len(result): \n",
    "\n",
    "        worker_id = result[0].WorkerId\n",
    "        assignment_id = result[0].AssignmentId\n",
    "        print(\"\\nworker_id: {}, assignment_id: {}, hit_id: {}\\n\".format(result[0].WorkerId, \n",
    "                                                                        result[0].AssignmentId, \n",
    "                                                                        result[0].HITId))\n",
    "        waiting = 0    \n",
    "        "
   ]
  },
  {
   "cell_type": "code",
   "execution_count": null,
   "metadata": {},
   "outputs": [],
   "source": [
    "for i_result in range(len(result)): \n",
    "    \n",
    "    worker_id = result[i_result].WorkerId\n",
    "    assignment_id = result[i_result].AssignmentId\n",
    "\n",
    "    print(worker_id, assignment_id)"
   ]
  },
  {
   "cell_type": "code",
   "execution_count": 2,
   "metadata": {},
   "outputs": [],
   "source": [
    "directory = 'compensation_records'\n",
    "if not os.path.exists(directory): os.makedirs(directory)\n",
    "\n",
    "if 1: #not os.path.exists(directory + '/' + worker_id + '_' + assignment_id + '.npy'):\n",
    "    \n",
    "    print('\\nworking on a compensation HIT for %s'%worker_id)\n",
    "    \n",
    "    try: \n",
    "        print('n trials:', w_data['n_trials'])\n",
    "        print('duration:', w_data['experiment_duration'])\n",
    "        print('blocks_completed:', w_data['n_block'])\n",
    "        print('total_bonus_earned:', w_data['total_bonus_earned'])\n",
    "        print(w_data['worker_input'])\n",
    "    except: \n",
    "        print(\"no feedback data for subject\\n\")\n",
    "\n",
    "    bonus_amount = bonus_amount \n",
    "\n",
    "    MSG = input(\"Enter a custom message? Pressing enter reverts to default. \")\n",
    "    if len(MSG) == 0: MSG = \"Thanks so much for participating in our study!\"\n",
    "    BONUS = input(\"Amount to bonus worker? Pressing enter reverts to {} \".format(bonus_amount))\n",
    "    if len(BONUS) == 0: BONUS = bonus_amount\n",
    "    converted_bonus = boto.mturk.price.Price(BONUS) \n",
    "   \n",
    "    s = mtc.grant_bonus(worker_id, assignment_id,  converted_bonus, MSG);\n",
    "    print('success!\\n')\n",
    "\n",
    "    compensation_info = {'time':datetime.datetime.now(), \n",
    "                         'worker_id': worker_id, \n",
    "                         'message':MSG, \n",
    "                         'bonus_amount':bonus_amount,\n",
    "                         'assignment_id':assignment_id, \n",
    "                         'submission_response':{type(s): s}, \n",
    "                         'worker_data':w_data}    \n",
    "\n",
    "    np.save(directory + '/' + worker_id + '_' + assignment_id + '_' + bonus_amount, compensation_info)\n",
    "\n",
    "else: \n",
    "\n",
    "    print('already bonused worker for this compensation HIT')\n"
   ]
  },
  {
   "cell_type": "code",
   "execution_count": null,
   "metadata": {},
   "outputs": [],
   "source": []
  }
 ],
 "metadata": {
  "kernelspec": {
   "display_name": "Python 3",
   "language": "python",
   "name": "python3"
  },
  "language_info": {
   "codemirror_mode": {
    "name": "ipython",
    "version": 3
   },
   "file_extension": ".py",
   "mimetype": "text/x-python",
   "name": "python",
   "nbconvert_exporter": "python",
   "pygments_lexer": "ipython3",
   "version": "3.7.0"
  }
 },
 "nbformat": 4,
 "nbformat_minor": 2
}
