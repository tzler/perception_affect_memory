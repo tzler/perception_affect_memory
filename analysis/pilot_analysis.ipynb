{
 "cells": [
  {
   "cell_type": "code",
   "execution_count": 19,
   "metadata": {},
   "outputs": [],
   "source": [
    "import warnings; warnings.simplefilter('ignore')"
   ]
  },
  {
   "cell_type": "code",
   "execution_count": 2,
   "metadata": {},
   "outputs": [],
   "source": [
    "import json, pymongo, pandas, scipy\n",
    "import numpy as np"
   ]
  },
  {
   "cell_type": "code",
   "execution_count": 3,
   "metadata": {},
   "outputs": [
    {
     "name": "stdout",
     "output_type": "stream",
     "text": [
      "Populating the interactive namespace from numpy and matplotlib\n"
     ]
    }
   ],
   "source": [
    "% pylab inline"
   ]
  },
  {
   "cell_type": "code",
   "execution_count": 9,
   "metadata": {},
   "outputs": [],
   "source": [
    "def connect_to_database(): \n",
    "    # load credentials to access the database, connect, identify collection\n",
    "    data = json.load(open('../experiment/.credentials/auth.json'))\n",
    "    mongo_tunnel = 'mongodb://' + data['user'] + ':' + data['password'] + '@127.0.0.1'\n",
    "    connection = pymongo.MongoClient(mongo_tunnel)\n",
    "    data_base = connection['sleep_affect_memory']\n",
    "    collection = data_base['replication']\n",
    "    return collection"
   ]
  },
  {
   "cell_type": "code",
   "execution_count": 10,
   "metadata": {},
   "outputs": [],
   "source": [
    "def identify_workers(collection):\n",
    "    \n",
    "    # the second is my worker id\n",
    "    exclude = ['NONE', 'A33F2FVAMGJDGG']\n",
    "    all_workers = [i for i in collection.distinct('worker_id') if i not in exclude]\n",
    "    complete = [] \n",
    "    # extract workers who've completed entire experiment -- not returned HIT early\n",
    "    for i_worker in all_workers: \n",
    "        tmp_data = collection.find({'worker_id':i_worker})\n",
    "        if 'worker_feedback' in tmp_data[tmp_data.count()-1]['trial_data']: \n",
    "            complete.append(i_worker)\n",
    "    \n",
    "    return complete"
   ]
  },
  {
   "cell_type": "code",
   "execution_count": 11,
   "metadata": {},
   "outputs": [],
   "source": [
    "def extract_data(w_ids): \n",
    "    \n",
    "    # columns to exclude \n",
    "    ignore = ['trial_index', \n",
    "              'time_elapsed', \n",
    "              'stimulus', \n",
    "              'correct_response', \n",
    "              'internal_node_id', \n",
    "              'trial_type']\n",
    "    \n",
    "    subject_trial_data = pandas.DataFrame()\n",
    "    \n",
    "    # iterate over workers \n",
    "    for i_worker in w_ids: \n",
    "        \n",
    "        # extract worker's data from mongo database\n",
    "        i_data = collection.find({'worker_id':i_worker})\n",
    "\n",
    "        for one_trial in i_data: \n",
    "            \n",
    "            # extract all data we want \n",
    "            if 'worker_feedback' not in one_trial['trial_data'].keys(): \n",
    "                q = {i:one_trial['trial_data'][i] for i in list(one_trial['trial_data'].keys()) if i not in ignore}\n",
    "                q['subject'] = one_trial['worker_id']\n",
    "                subject_trial_data = subject_trial_data.append(q, ignore_index=True)\n",
    "    \n",
    "    # convert to absolute value of distance\n",
    "    subject_trial_data.distance = np.abs(subject_trial_data.distance)\n",
    "    \n",
    "    return subject_trial_data"
   ]
  },
  {
   "cell_type": "code",
   "execution_count": 12,
   "metadata": {},
   "outputs": [],
   "source": [
    "collection = connect_to_database()\n",
    "worker_ids = identify_workers(collection)\n",
    "trial_data = extract_data(worker_ids)"
   ]
  },
  {
   "cell_type": "code",
   "execution_count": 13,
   "metadata": {},
   "outputs": [],
   "source": [
    "generalization_data = trial_data[trial_data.stage=='generalization']\n",
    "generalization_data = generalization_data[generalization_data.valence!='control']"
   ]
  },
  {
   "cell_type": "code",
   "execution_count": 14,
   "metadata": {},
   "outputs": [],
   "source": [
    "response_mapping = {80:'positive',81:'negative',32:'neutral'}\n",
    "generalization_data['response'] = [response_mapping[i] for i in generalization_data.key_press.values]\n",
    "generalization_data['distance'] = abs(generalization_data['distance'])"
   ]
  },
  {
   "cell_type": "code",
   "execution_count": 15,
   "metadata": {},
   "outputs": [],
   "source": [
    "main_question_conditions = (generalization_data.valence != 'control')\n",
    "valence_by_distance = generalization_data[main_question_conditions][['response', 'distance', 'valence']]"
   ]
  },
  {
   "cell_type": "code",
   "execution_count": 16,
   "metadata": {},
   "outputs": [
    {
     "data": {
      "text/html": [
       "<div>\n",
       "<style scoped>\n",
       "    .dataframe tbody tr th:only-of-type {\n",
       "        vertical-align: middle;\n",
       "    }\n",
       "\n",
       "    .dataframe tbody tr th {\n",
       "        vertical-align: top;\n",
       "    }\n",
       "\n",
       "    .dataframe thead th {\n",
       "        text-align: right;\n",
       "    }\n",
       "</style>\n",
       "<table border=\"1\" class=\"dataframe\">\n",
       "  <thead>\n",
       "    <tr style=\"text-align: right;\">\n",
       "      <th></th>\n",
       "      <th>response</th>\n",
       "      <th>distance</th>\n",
       "      <th>valence</th>\n",
       "    </tr>\n",
       "  </thead>\n",
       "  <tbody>\n",
       "    <tr>\n",
       "      <th>33</th>\n",
       "      <td>positive</td>\n",
       "      <td>5.0</td>\n",
       "      <td>positive</td>\n",
       "    </tr>\n",
       "    <tr>\n",
       "      <th>34</th>\n",
       "      <td>positive</td>\n",
       "      <td>5.0</td>\n",
       "      <td>positive</td>\n",
       "    </tr>\n",
       "    <tr>\n",
       "      <th>35</th>\n",
       "      <td>positive</td>\n",
       "      <td>20.0</td>\n",
       "      <td>positive</td>\n",
       "    </tr>\n",
       "    <tr>\n",
       "      <th>36</th>\n",
       "      <td>positive</td>\n",
       "      <td>0.0</td>\n",
       "      <td>negative</td>\n",
       "    </tr>\n",
       "    <tr>\n",
       "      <th>37</th>\n",
       "      <td>neutral</td>\n",
       "      <td>20.0</td>\n",
       "      <td>negative</td>\n",
       "    </tr>\n",
       "    <tr>\n",
       "      <th>38</th>\n",
       "      <td>negative</td>\n",
       "      <td>5.0</td>\n",
       "      <td>negative</td>\n",
       "    </tr>\n",
       "    <tr>\n",
       "      <th>39</th>\n",
       "      <td>positive</td>\n",
       "      <td>20.0</td>\n",
       "      <td>positive</td>\n",
       "    </tr>\n",
       "    <tr>\n",
       "      <th>42</th>\n",
       "      <td>neutral</td>\n",
       "      <td>100.0</td>\n",
       "      <td>positive</td>\n",
       "    </tr>\n",
       "    <tr>\n",
       "      <th>43</th>\n",
       "      <td>negative</td>\n",
       "      <td>100.0</td>\n",
       "      <td>negative</td>\n",
       "    </tr>\n",
       "    <tr>\n",
       "      <th>44</th>\n",
       "      <td>positive</td>\n",
       "      <td>0.0</td>\n",
       "      <td>positive</td>\n",
       "    </tr>\n",
       "  </tbody>\n",
       "</table>\n",
       "</div>"
      ],
      "text/plain": [
       "    response  distance   valence\n",
       "33  positive       5.0  positive\n",
       "34  positive       5.0  positive\n",
       "35  positive      20.0  positive\n",
       "36  positive       0.0  negative\n",
       "37   neutral      20.0  negative\n",
       "38  negative       5.0  negative\n",
       "39  positive      20.0  positive\n",
       "42   neutral     100.0  positive\n",
       "43  negative     100.0  negative\n",
       "44  positive       0.0  positive"
      ]
     },
     "execution_count": 16,
     "metadata": {},
     "output_type": "execute_result"
    }
   ],
   "source": [
    "valence_by_distance[0:10]"
   ]
  },
  {
   "cell_type": "code",
   "execution_count": 17,
   "metadata": {
    "scrolled": false
   },
   "outputs": [],
   "source": [
    "from statsmodels.formula.api import ols\n",
    "model = ols(\"response ~ distance * valence\", valence_by_distance).fit()"
   ]
  },
  {
   "cell_type": "code",
   "execution_count": null,
   "metadata": {},
   "outputs": [],
   "source": []
  },
  {
   "cell_type": "code",
   "execution_count": null,
   "metadata": {},
   "outputs": [],
   "source": []
  },
  {
   "cell_type": "code",
   "execution_count": 20,
   "metadata": {},
   "outputs": [
    {
     "data": {
      "text/plain": [
       "<matplotlib.legend.Legend at 0x1a1bac7ac8>"
      ]
     },
     "execution_count": 20,
     "metadata": {},
     "output_type": "execute_result"
    },
    {
     "data": {
      "image/png": "[encoded data removed]",
      "text/plain": [
       "<Figure size 432x288 with 1 Axes>"
      ]
     },
     "metadata": {
      "needs_background": "light"
     },
     "output_type": "display_data"
    }
   ],
   "source": [
    "colores = {'positive':'red', 'negative':'blue'}\n",
    "\n",
    "distances = np.sort(generalization_data.distance.unique())\n",
    "all_things = {'positive':[], 'negative':[]}\n",
    "\n",
    "for i_subject in generalization_data.subject.unique(): \n",
    "    \n",
    "    for i_valence in ['positive', 'negative']: \n",
    "        \n",
    "        things = [] \n",
    "        \n",
    "        for i_distance in distances: \n",
    "        \n",
    "            gen = generalization_data[generalization_data.subject==i_subject]\n",
    "            conditions = (gen.valence==i_valence)*(gen.distance==i_distance)\n",
    "            things.append(mean(gen.response[conditions] == gen.valence[conditions]))\n",
    "        \n",
    "        all_things[i_valence].append(things)\n",
    "        plot(distances, things, color=colores[i_valence], alpha=.1, linewidth=3)\n",
    "\n",
    "plot(distances, np.mean(all_things['positive'],0), color='red', linewidth=3, label='positive')\n",
    "plot(distances, np.mean(all_things['negative'],0), color='blue', linewidth=3, label='negative')\n",
    "legend() \n"
   ]
  },
  {
   "cell_type": "code",
   "execution_count": 21,
   "metadata": {},
   "outputs": [],
   "source": [
    "def get_pilot_subject(name_of_iteration): \n",
    "\n",
    "    # extract worker's data from mongo database\n",
    "    i_data = collection.find({'iteration_name':name_of_iteration})\n",
    "\n",
    "    ignore = ['trial_index', \n",
    "              'time_elapsed', \n",
    "              'stimulus', \n",
    "              'correct_response', \n",
    "              'internal_node_id', \n",
    "              'trial_type']\n",
    "\n",
    "    person_data = pandas.DataFrame()\n",
    "\n",
    "    for one_trial in i_data: \n",
    "\n",
    "        # extract all data we want \n",
    "        if 'worker_feedback' not in one_trial['trial_data'].keys(): \n",
    "            \n",
    "            q = {i:one_trial['trial_data'][i] for i in list(one_trial['trial_data'].keys()) if i not in ignore}\n",
    "            q['subject'] = one_trial['worker_id']\n",
    "            person_data = person_data.append(q, ignore_index=True)\n",
    "    \n",
    "    return person_data"
   ]
  },
  {
   "cell_type": "code",
   "execution_count": 22,
   "metadata": {},
   "outputs": [],
   "source": [
    "def generalization_curves(gen_data, data_type, name): \n",
    "\n",
    "    gen_curves = {}\n",
    "    distances = np.sort(gen_data['distance'].unique())\n",
    "    colores = {'positive':'red', 'negative':'blue'}\n",
    "\n",
    "    for i_valence in ['positive', 'negative']: \n",
    "\n",
    "        gen_rates = [] \n",
    "        gen_sems = []\n",
    "        \n",
    "        for i_distance in distances: \n",
    "\n",
    "            conditions = (gen_data.valence==i_valence) * (gen_data.distance==i_distance)\n",
    "            \n",
    "            if data_type == 'valence': \n",
    "                choices = gen_data.response[conditions] == gen_data.valence[conditions]\n",
    "            elif data_type == 'rt': \n",
    "                choices = gen_data.rt[conditions]\n",
    "                choices = [i for i in choices if i != None]\n",
    "            \n",
    "            gen_rates.append(mean(choices))\n",
    "            gen_sems.append(scipy.stats.sem(choices))\n",
    "            \n",
    "        gen_rates = np.array(gen_rates)\n",
    "        gen_sems = np.array(gen_sems)\n",
    "        gen_curves[i_valence] = gen_rates\n",
    "        plot(distances, gen_rates, linewidth=3, label=i_valence, color=colores[i_valence], alpha=.5)\n",
    "        fill_between(distances, gen_rates+gen_sems, gen_rates-gen_sems, alpha=.2, color=colores[i_valence])\n",
    "    \n",
    "    title(\"%s's pilot data!\"%name)\n",
    "    \n",
    "    if data_type == 'valence': ylabel('p( association_valence | tone )')\n",
    "    elif data_type == 'rt': \n",
    "        ylabel('Reaction time')\n",
    "        ylim([0,2000])\n",
    "    xlabel('Distance from original tone')\n",
    "    legend()\n"
   ]
  },
  {
   "cell_type": "code",
   "execution_count": 23,
   "metadata": {},
   "outputs": [],
   "source": [
    "def preprocess_subject(subject_data): \n",
    "    \n",
    "    subject_gen = subject_data[subject_data.stage=='generalization']\n",
    "    subject_gen = subject_gen[subject_gen.valence!='control']\n",
    "    subject_gen['distance'] = np.abs(subject_gen['distance'])\n",
    "    responses = {80:'positive',81:'negative',32:'neutral',None:None}\n",
    "    subject_gen['response'] = [responses[i] for i in subject_gen.key_press.values]\n",
    "    \n",
    "    return subject_gen"
   ]
  },
  {
   "cell_type": "code",
   "execution_count": null,
   "metadata": {
    "scrolled": false
   },
   "outputs": [],
   "source": [
    "\n",
    "\n"
   ]
  },
  {
   "cell_type": "code",
   "execution_count": 25,
   "metadata": {},
   "outputs": [
    {
     "data": {
      "image/png": "[encoded data removed]",
      "text/plain": [
       "<Figure size 720x216 with 2 Axes>"
      ]
     },
     "metadata": {
      "needs_background": "light"
     },
     "output_type": "display_data"
    }
   ],
   "source": [
    "# load Maia's data\n",
    "maia_data = get_pilot_subject('maia_test',)\n",
    "# preprocess\n",
    "maia_g_data = preprocess_subject(maia_data)\n",
    "# plot generaliation curves\n",
    "figure(figsize=[10,3])\n",
    "subplot(121) ; generalization_curves(maia_g_data, 'valence',  \"Maia\")\n",
    "\n",
    "# extract tyler's data\n",
    "tyler_data = get_pilot_subject('tyler_final_pilot')\n",
    "# preprocess\n",
    "tyler_g_data = preprocess_subject(tyler_data)\n",
    "# plot generalization curve\n",
    "subplot(122); generalization_curves(tyler_g_data, 'valence', \"tyler\")"
   ]
  },
  {
   "cell_type": "code",
   "execution_count": 26,
   "metadata": {},
   "outputs": [
    {
     "data": {
      "image/png": "[encoded data removed]",
      "text/plain": [
       "<Figure size 720x216 with 2 Axes>"
      ]
     },
     "metadata": {
      "needs_background": "light"
     },
     "output_type": "display_data"
    }
   ],
   "source": [
    "figure(figsize=[10,3])\n",
    "\n",
    "subplot(121)\n",
    "generalization_curves(maia_g_data, 'rt', 'Maia')\n",
    "\n",
    "subplot(122)\n",
    "generalization_curves(tyler_g_data, 'rt', 'tyler')"
   ]
  },
  {
   "cell_type": "code",
   "execution_count": null,
   "metadata": {},
   "outputs": [],
   "source": []
  },
  {
   "cell_type": "code",
   "execution_count": null,
   "metadata": {},
   "outputs": [],
   "source": []
  },
  {
   "cell_type": "code",
   "execution_count": 34,
   "metadata": {},
   "outputs": [],
   "source": [
    "import json, pymongo, pandas\n",
    "import numpy as np\n",
    "import matplotlib.pyplot as plt \n",
    "import warnings; warnings.simplefilter('ignore')\n",
    "  \n",
    "auth_path = \"/Users/biota/memory/sleep_affect_memory/experiment/.credentials/auth.json\"\n",
    "  \n",
    "def connect_to_database(): \n",
    "\n",
    "    # load credentials to access the database, connect, identify collection\n",
    "    data = json.load(open(auth_path))\n",
    "    mongo_tunnel = 'mongodb://' + data['user'] + ':' + data['password'] + '@127.0.0.1'\n",
    "    connection = pymongo.MongoClient(mongo_tunnel)\n",
    "    data_base = connection['sleep_affect_memory']\n",
    "    collection = data_base['replication']\n",
    "    \n",
    "    return collection\n",
    "    \n",
    "def identify_workers(collection):\n",
    "\n",
    "    # the second is my worker id\n",
    "    exclude = ['NONE', 'A33F2FVAMGJDGG']\n",
    "    all_workers = [i for i in collection.distinct('worker_id') if i not in exclude]\n",
    "    # extract workers who've completed entire experiment -- not returned HIT early\n",
    "    complete = [] \n",
    "    for i_worker in all_workers: \n",
    "        tmp_data = collection.find({'worker_id':i_worker})\n",
    "        if 'worker_feedback' in tmp_data[tmp_data.count()-1]['trial_data']: \n",
    "            complete.append(i_worker)\n",
    "            \n",
    "    return complete\n",
    "    \n",
    "def extract_data(): \n",
    "\n",
    "    # connect with mongo\n",
    "    collection = connect_to_database() \n",
    "    # identify workers who completed experiment\n",
    "    worker_ids = identify_workers(collection)\n",
    "    # pret to remove worker identifiers \n",
    "    subject_ids = {worker_ids[i]:i for i in range(len(worker_ids))}\n",
    "    # initialize data frame\n",
    "    subject_trial_data = pandas.DataFrame()\n",
    "    # iterate over workers \n",
    "    for i_worker in worker_ids: \n",
    "        # extract worker's data from mongo database\n",
    "        i_data = collection.find({'worker_id':i_worker})\n",
    "        # extract trial data\n",
    "        for one_trial in i_data: \n",
    "            # only extract data we want \n",
    "            if 'worker_feedback' not in one_trial['trial_data'].keys(): \n",
    "                q = {i:one_trial['trial_data'][i] for i in list(one_trial['trial_data'].keys())}\n",
    "                # use anonymized worker identifier\n",
    "                q['subject'] = subject_ids[i_worker]\n",
    "                subject_trial_data = subject_trial_data.append(q, ignore_index=True)\n",
    "                \n",
    "    return subject_trial_data\n",
    "  \n",
    "# extract and format data from database\n",
    "data = extract_data()\n",
    "  \n",
    "# save for later analysis\n",
    "data.to_csv('subject_data.csv')"
   ]
  },
  {
   "cell_type": "code",
   "execution_count": null,
   "metadata": {},
   "outputs": [],
   "source": []
  }
 ],
 "metadata": {
  "kernelspec": {
   "display_name": "Python 3",
   "language": "python",
   "name": "python3"
  },
  "language_info": {
   "codemirror_mode": {
    "name": "ipython",
    "version": 3
   },
   "file_extension": ".py",
   "mimetype": "text/x-python",
   "name": "python",
   "nbconvert_exporter": "python",
   "pygments_lexer": "ipython3",
   "version": "3.7.0"
  }
 },
 "nbformat": 4,
 "nbformat_minor": 2
}
