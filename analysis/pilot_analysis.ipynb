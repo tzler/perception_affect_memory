{
 "cells": [
  {
   "cell_type": "code",
   "execution_count": 1,
   "metadata": {},
   "outputs": [],
   "source": [
    "import warnings; warnings.simplefilter('ignore')"
   ]
  },
  {
   "cell_type": "code",
   "execution_count": 2,
   "metadata": {},
   "outputs": [],
   "source": [
    "import json, pymongo, pandas\n",
    "import numpy as np"
   ]
  },
  {
   "cell_type": "code",
   "execution_count": 3,
   "metadata": {},
   "outputs": [
    {
     "name": "stdout",
     "output_type": "stream",
     "text": [
      "Populating the interactive namespace from numpy and matplotlib\n"
     ]
    }
   ],
   "source": [
    "% pylab inline"
   ]
  },
  {
   "cell_type": "code",
   "execution_count": 102,
   "metadata": {},
   "outputs": [],
   "source": [
    "def connect_to_database(): \n",
    "    # load credentials to access the database, connect, identify collection\n",
    "    data = json.load(open('./.credentials/auth.json'))\n",
    "    mongo_tunnel = 'mongodb://' + data['user'] + ':' + data['password'] + '@127.0.0.1'\n",
    "    connection = pymongo.MongoClient(mongo_tunnel)\n",
    "    data_base = connection['sleep_affect_memory']\n",
    "    collection = data_base['replication']\n",
    "    return collection"
   ]
  },
  {
   "cell_type": "code",
   "execution_count": 103,
   "metadata": {},
   "outputs": [],
   "source": [
    "def identify_workers(collection):\n",
    "    \n",
    "    # the second is my worker id\n",
    "    exclude = ['NONE', 'A33F2FVAMGJDGG']\n",
    "    all_workers = [i for i in collection.distinct('worker_id') if i not in exclude]\n",
    "    \n",
    "    # extract workers who've completed entire experiment -- not returned HIT early\n",
    "    complete = [] \n",
    "    for i_worker in all_workers: \n",
    "        tmp_data = collection.find({'worker_id':i_worker})\n",
    "        if 'worker_feedback' in tmp_data[tmp_data.count()-1]['trial_data']: \n",
    "            complete.append(i_worker)\n",
    "    \n",
    "    return complete"
   ]
  },
  {
   "cell_type": "code",
   "execution_count": 104,
   "metadata": {},
   "outputs": [],
   "source": [
    "def extract_data(w_ids): \n",
    "    \n",
    "    # columns to exclude \n",
    "    ignore = ['trial_index', \n",
    "              'time_elapsed', \n",
    "              'stimulus', \n",
    "              'correct_response', \n",
    "              'internal_node_id', \n",
    "              'trial_type']\n",
    "    \n",
    "    subject_trial_data = pandas.DataFrame()\n",
    "    \n",
    "    # iterate over workers \n",
    "    for i_worker in w_ids: \n",
    "        \n",
    "        # extract worker's data from mongo database\n",
    "        i_data = collection.find({'worker_id':i_worker})\n",
    "\n",
    "        for one_trial in i_data: \n",
    "            \n",
    "            # extract all data we want \n",
    "            if 'worker_feedback' not in one_trial['trial_data'].keys(): \n",
    "                q = {i:one_trial['trial_data'][i] for i in list(one_trial['trial_data'].keys()) if i not in ignore}\n",
    "                q['subject'] = one_trial['worker_id']\n",
    "                subject_trial_data = subject_trial_data.append(q, ignore_index=True)\n",
    "    \n",
    "    # convert to absolute value of distance\n",
    "    subject_trial_data.distance = np.abs(subject_trial_data.distance)\n",
    "    \n",
    "    return subject_trial_data"
   ]
  },
  {
   "cell_type": "code",
   "execution_count": 105,
   "metadata": {},
   "outputs": [],
   "source": [
    "collection = connect_to_database()\n",
    "worker_ids = identify_workers(collection)\n",
    "trial_data = extract_data(worker_ids)"
   ]
  },
  {
   "cell_type": "code",
   "execution_count": 106,
   "metadata": {},
   "outputs": [],
   "source": [
    "generalization_data = trial_data[trial_data.stage=='generalization']\n",
    "generalization_data = generalization_data[generalization_data.valence!='control']"
   ]
  },
  {
   "cell_type": "code",
   "execution_count": 107,
   "metadata": {},
   "outputs": [
    {
     "data": {
      "image/png": "[encoded data removed]",
      "text/plain": [
       "<Figure size 432x288 with 1 Axes>"
      ]
     },
     "metadata": {
      "needs_background": "light"
     },
     "output_type": "display_data"
    }
   ],
   "source": [
    "tones =  [i for i in np.sort(generalization_data.distance.unique()) if i != 0 ]\n",
    "valences = ['positive', 'negative']\n",
    "generalization_curves = {j:{i:[] for i in tones} for j in valences}\n",
    "colores = {'positive':'red', 'negative':'blue'}\n",
    "\n",
    "need_legend = 1\n",
    "for i_subject in worker_ids: \n",
    "    \n",
    "    gen_data = generalization_data[generalization_data.subject==i_subject]\n",
    "    \n",
    "    for i_valence in valences: \n",
    "        \n",
    "        generalization_curve = []\n",
    "        for i_tone in tones: \n",
    "\n",
    "            conditions = (gen_data.valence == i_valence) & (gen_data.distance == i_tone)\n",
    "            generalization_curve.append(1-gen_data[conditions].correct.mean())\n",
    "            generalization_curves[i_valence][i_tone].append(1-gen_data[conditions].correct.mean())\n",
    "        \n",
    "        #plot(tones, generalization_curve,  color=colores[i_valence], linewidth=2, alpha=.1)\n",
    "\n",
    "for i_valence in valences: \n",
    "    errorbar(tones, \n",
    "             [mean(generalization_curves[i_valence][i]) for i in tones],\n",
    "             yerr=[std(generalization_curves[i_valence][i]) for i in tones], \n",
    "             color=colores[i_valence], linewidth=3, label='average_%s'%i_valence, \n",
    "             alpha=.6)\n",
    "legend() \n",
    "ylabel('p ( missclassification | new tone )')\n",
    "xlabel('distance (Hz) from original tone'); \n",
    "title('Probability of error as a function of valence and distance, \\nn=2!', y=1.05); "
   ]
  },
  {
   "cell_type": "code",
   "execution_count": 108,
   "metadata": {},
   "outputs": [],
   "source": [
    "main_question_conditions = (generalization_data.valence != 'control')\n",
    "valence_by_distance = generalization_data[main_question_conditions][['correct', 'distance', 'valence']]"
   ]
  },
  {
   "cell_type": "code",
   "execution_count": 109,
   "metadata": {},
   "outputs": [
    {
     "data": {
      "text/html": [
       "<div>\n",
       "<style scoped>\n",
       "    .dataframe tbody tr th:only-of-type {\n",
       "        vertical-align: middle;\n",
       "    }\n",
       "\n",
       "    .dataframe tbody tr th {\n",
       "        vertical-align: top;\n",
       "    }\n",
       "\n",
       "    .dataframe thead th {\n",
       "        text-align: right;\n",
       "    }\n",
       "</style>\n",
       "<table border=\"1\" class=\"dataframe\">\n",
       "  <thead>\n",
       "    <tr style=\"text-align: right;\">\n",
       "      <th></th>\n",
       "      <th>correct</th>\n",
       "      <th>distance</th>\n",
       "      <th>valence</th>\n",
       "    </tr>\n",
       "  </thead>\n",
       "  <tbody>\n",
       "    <tr>\n",
       "      <th>33</th>\n",
       "      <td>0.0</td>\n",
       "      <td>5.0</td>\n",
       "      <td>positive</td>\n",
       "    </tr>\n",
       "    <tr>\n",
       "      <th>34</th>\n",
       "      <td>0.0</td>\n",
       "      <td>5.0</td>\n",
       "      <td>positive</td>\n",
       "    </tr>\n",
       "    <tr>\n",
       "      <th>35</th>\n",
       "      <td>0.0</td>\n",
       "      <td>20.0</td>\n",
       "      <td>positive</td>\n",
       "    </tr>\n",
       "    <tr>\n",
       "      <th>36</th>\n",
       "      <td>0.0</td>\n",
       "      <td>0.0</td>\n",
       "      <td>negative</td>\n",
       "    </tr>\n",
       "    <tr>\n",
       "      <th>37</th>\n",
       "      <td>1.0</td>\n",
       "      <td>20.0</td>\n",
       "      <td>negative</td>\n",
       "    </tr>\n",
       "    <tr>\n",
       "      <th>38</th>\n",
       "      <td>0.0</td>\n",
       "      <td>5.0</td>\n",
       "      <td>negative</td>\n",
       "    </tr>\n",
       "    <tr>\n",
       "      <th>39</th>\n",
       "      <td>0.0</td>\n",
       "      <td>20.0</td>\n",
       "      <td>positive</td>\n",
       "    </tr>\n",
       "    <tr>\n",
       "      <th>42</th>\n",
       "      <td>1.0</td>\n",
       "      <td>100.0</td>\n",
       "      <td>positive</td>\n",
       "    </tr>\n",
       "    <tr>\n",
       "      <th>43</th>\n",
       "      <td>0.0</td>\n",
       "      <td>100.0</td>\n",
       "      <td>negative</td>\n",
       "    </tr>\n",
       "    <tr>\n",
       "      <th>44</th>\n",
       "      <td>1.0</td>\n",
       "      <td>0.0</td>\n",
       "      <td>positive</td>\n",
       "    </tr>\n",
       "  </tbody>\n",
       "</table>\n",
       "</div>"
      ],
      "text/plain": [
       "    correct  distance   valence\n",
       "33      0.0       5.0  positive\n",
       "34      0.0       5.0  positive\n",
       "35      0.0      20.0  positive\n",
       "36      0.0       0.0  negative\n",
       "37      1.0      20.0  negative\n",
       "38      0.0       5.0  negative\n",
       "39      0.0      20.0  positive\n",
       "42      1.0     100.0  positive\n",
       "43      0.0     100.0  negative\n",
       "44      1.0       0.0  positive"
      ]
     },
     "execution_count": 109,
     "metadata": {},
     "output_type": "execute_result"
    }
   ],
   "source": [
    "valence_by_distance[0:10]"
   ]
  },
  {
   "cell_type": "code",
   "execution_count": 110,
   "metadata": {
    "scrolled": false
   },
   "outputs": [],
   "source": [
    "from statsmodels.formula.api import ols\n",
    "model = ols(\"correct ~ distance * valence\", valence_by_distance).fit()"
   ]
  },
  {
   "cell_type": "code",
   "execution_count": 111,
   "metadata": {},
   "outputs": [
    {
     "name": "stdout",
     "output_type": "stream",
     "text": [
      "                            OLS Regression Results                            \n",
      "==============================================================================\n",
      "Dep. Variable:                correct   R-squared:                       0.081\n",
      "Model:                            OLS   Adj. R-squared:                  0.055\n",
      "Method:                 Least Squares   F-statistic:                     3.069\n",
      "Date:                Wed, 28 Nov 2018   Prob (F-statistic):             0.0312\n",
      "Time:                        23:43:28   Log-Likelihood:                -72.606\n",
      "No. Observations:                 108   AIC:                             153.2\n",
      "Df Residuals:                     104   BIC:                             163.9\n",
      "Df Model:                           3                                         \n",
      "Covariance Type:            nonrobust                                         \n",
      "================================================================================================\n",
      "                                   coef    std err          t      P>|t|      [0.025      0.975]\n",
      "------------------------------------------------------------------------------------------------\n",
      "Intercept                        0.2961      0.080      3.679      0.000       0.137       0.456\n",
      "valence[T.positive]              0.2040      0.114      1.792      0.076      -0.022       0.430\n",
      "distance                      6.659e-06      0.002      0.004      0.997      -0.003       0.003\n",
      "distance:valence[T.positive]     0.0020      0.002      0.842      0.402      -0.003       0.007\n",
      "==============================================================================\n",
      "Omnibus:                     1136.222   Durbin-Watson:                   2.613\n",
      "Prob(Omnibus):                  0.000   Jarque-Bera (JB):               12.686\n",
      "Skew:                           0.291   Prob(JB):                      0.00176\n",
      "Kurtosis:                       1.425   Cond. No.                         154.\n",
      "==============================================================================\n",
      "\n",
      "Warnings:\n",
      "[1] Standard Errors assume that the covariance matrix of the errors is correctly specified.\n"
     ]
    }
   ],
   "source": [
    "print(model.summary())"
   ]
  },
  {
   "cell_type": "code",
   "execution_count": 112,
   "metadata": {},
   "outputs": [],
   "source": [
    "\n",
    "### add 'neg', 'pos', 'new' data into the keys\n",
    "### save keys, not numbers! \n"
   ]
  },
  {
   "cell_type": "code",
   "execution_count": 200,
   "metadata": {},
   "outputs": [],
   "source": [
    "keys = {'positive':np.zeros(len(td)), 'negative':np.zeros(len(td))}\n",
    "\n",
    "for i_subject in trial_data.subject.unique(): \n",
    "\n",
    "    for i_valence in ['positive', 'negative']: \n",
    "        \n",
    "        ifs = (td.correct==1) & (td.condition == 'instrumental') & (td.valence==i_valence)\n",
    "        keys[i_valence][td.subject==i_subject] = (td[ifs].key_press.unique()[0])\n",
    "        "
   ]
  },
  {
   "cell_type": "code",
   "execution_count": 258,
   "metadata": {},
   "outputs": [],
   "source": [
    "\n",
    "re = {80:0,81:1,32:2}\n",
    "generalization_data['key'] = [re[i] for i in generalization_data.key_press.values]\n",
    "generalization_data['response'] = [{80:'positive',81:'negative',32:'neutral'}[i] for i in generalization_data.key_press.values]\n"
   ]
  },
  {
   "cell_type": "code",
   "execution_count": 276,
   "metadata": {},
   "outputs": [
    {
     "data": {
      "text/plain": [
       "Text(0.5,1.05,'something is wrong with our \"correct\" labels')"
      ]
     },
     "execution_count": 276,
     "metadata": {},
     "output_type": "execute_result"
    },
    {
     "data": {
      "image/png": "[encoded data removed]",
      "text/plain": [
       "<Figure size 432x288 with 1 Axes>"
      ]
     },
     "metadata": {
      "needs_background": "light"
     },
     "output_type": "display_data"
    }
   ],
   "source": [
    "for i_valence in ['negative', 'positive']: \n",
    "    plt.scatter(generalization_data[generalization_data.valence==i_valence].key.values + .1*np.random.rand(sum(generalization_data.valence=='positive')),  \n",
    "                generalization_data[generalization_data.valence==i_valence].distance.values, \n",
    "                alpha=.3, label=i_valence)\n",
    "\n",
    "\n",
    "xticks([0,1,2], ['positive', 'negative', 'neutral'])\n",
    "legend() \n",
    "xlabel('distance from original tone')\n",
    "title('something is wrong with our \"correct\" labels', y=1.05)"
   ]
  },
  {
   "cell_type": "code",
   "execution_count": 291,
   "metadata": {},
   "outputs": [
    {
     "data": {
      "text/plain": [
       "<matplotlib.legend.Legend at 0x1a25a4a0f0>"
      ]
     },
     "execution_count": 291,
     "metadata": {},
     "output_type": "execute_result"
    },
    {
     "data": {
      "image/png": "[encoded data removed]",
      "text/plain": [
       "<Figure size 432x288 with 1 Axes>"
      ]
     },
     "metadata": {
      "needs_background": "light"
     },
     "output_type": "display_data"
    }
   ],
   "source": [
    "colores = {'positive':'red', 'negative':'blue'}\n",
    "\n",
    "distances = np.sort(generalization_data.distance.unique())\n",
    "all_things = {'positive':[], 'negative':[]}\n",
    "\n",
    "for i_subject in generalization_data.subject.unique(): \n",
    "    \n",
    "    for i_valence in ['positive', 'negative']: \n",
    "        \n",
    "        things = [] \n",
    "        \n",
    "        for i_distance in distances: \n",
    "        \n",
    "            gen = generalization_data[generalization_data.subject==i_subject]\n",
    "            conditions = (gen.valence==i_valence)*(gen.distance==i_distance)\n",
    "            things.append(mean(gen.response[conditions] == gen.valence[conditions]))\n",
    "        \n",
    "        all_things[i_valence].append(things)\n",
    "        plot(distances, things, color=colores[i_valence], alpha=.1, linewidth=3)\n",
    "\n",
    "plot(distances, np.mean(all_things['positive'],0), color='red', linewidth=3, label='positive')\n",
    "plot(distances, np.mean(all_things['negative'],0), color='blue', linewidth=3, label='negative')\n",
    "legend() \n"
   ]
  },
  {
   "cell_type": "code",
   "execution_count": null,
   "metadata": {},
   "outputs": [],
   "source": []
  },
  {
   "cell_type": "code",
   "execution_count": null,
   "metadata": {
    "scrolled": false
   },
   "outputs": [],
   "source": []
  },
  {
   "cell_type": "code",
   "execution_count": null,
   "metadata": {},
   "outputs": [],
   "source": []
  },
  {
   "cell_type": "code",
   "execution_count": null,
   "metadata": {},
   "outputs": [],
   "source": []
  },
  {
   "cell_type": "code",
   "execution_count": null,
   "metadata": {},
   "outputs": [],
   "source": []
  }
 ],
 "metadata": {
  "kernelspec": {
   "display_name": "Python 3",
   "language": "python",
   "name": "python3"
  },
  "language_info": {
   "codemirror_mode": {
    "name": "ipython",
    "version": 3
   },
   "file_extension": ".py",
   "mimetype": "text/x-python",
   "name": "python",
   "nbconvert_exporter": "python",
   "pygments_lexer": "ipython3",
   "version": "3.7.0"
  }
 },
 "nbformat": 4,
 "nbformat_minor": 2
}
